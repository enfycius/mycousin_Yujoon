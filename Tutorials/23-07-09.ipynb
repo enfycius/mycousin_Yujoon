{
 "cells": [
  {
   "cell_type": "markdown",
   "metadata": {},
   "source": [
    "# 자료형"
   ]
  },
  {
   "cell_type": "markdown",
   "metadata": {},
   "source": [
    "값을 표현하기 위한 수단"
   ]
  },
  {
   "cell_type": "markdown",
   "metadata": {},
   "source": [
    "* 숫자형(Number)\n",
    "    - 정수형: 소수점이 없는 숫자\n",
    "    - 실수형: 소수점이 있는 숫자\n",
    "\n",
    "ex. \n",
    "\n",
    "0: 정수형\n",
    "\n",
    "0.00: 실수형\n",
    "\n",
    "0.1: 실수형\n",
    "\n",
    "* 문자열(String) 자료형\n",
    "\n",
    "양쪽에 항상 큰 따옴표(\"\") 아니면 작은 따옴표('') 있어야 한다.\n",
    "\n",
    "* 리스트(List) 자료형\n",
    "\n",
    "* 튜플(Tuple) 자료형\n",
    "\n",
    "* 딕셔너리(Dictionary) 자료형\n",
    "\n",
    "* 집합(Set) 자료형\n",
    "\n",
    "* 불(Bool or Boolean) 자료형: True, False"
   ]
  },
  {
   "cell_type": "markdown",
   "metadata": {},
   "source": [
    "저급으로 갈수록 컴퓨터가 이해하기 쉬운 언어,,,\n",
    "\n",
    "고급으로 갈수록 사람이 이해하기 쉬운 언어,,,"
   ]
  },
  {
   "cell_type": "markdown",
   "metadata": {},
   "source": [
    "파이썬은 C/C++ 언어와는 다르게 저급언어가 아닌, 고급언어이다."
   ]
  },
  {
   "cell_type": "markdown",
   "metadata": {},
   "source": [
    "## 변수"
   ]
  },
  {
   "cell_type": "markdown",
   "metadata": {},
   "source": [
    "핵심: 값을 저장하기 위한 용도"
   ]
  },
  {
   "cell_type": "markdown",
   "metadata": {},
   "source": [
    "변수는 리터럴 즉 값을 저장하기 위한 용도로 사용된다."
   ]
  },
  {
   "cell_type": "markdown",
   "metadata": {},
   "source": [
    "리터럴(Literal): 값"
   ]
  },
  {
   "cell_type": "markdown",
   "metadata": {},
   "source": [
    "값이 다음 줄로 넘어가면 사라진다."
   ]
  },
  {
   "cell_type": "markdown",
   "metadata": {},
   "source": [
    "코드는 항상 위에서 아래로 실행이 된다."
   ]
  },
  {
   "cell_type": "code",
   "execution_count": 1,
   "metadata": {},
   "outputs": [
    {
     "data": {
      "text/plain": [
       "'World'"
      ]
     },
     "execution_count": 1,
     "metadata": {},
     "output_type": "execute_result"
    }
   ],
   "source": [
    "10\n",
    "\n",
    "20\n",
    "\n",
    "30\n",
    "\n",
    "\"Hello\"\n",
    "\n",
    "\"World\""
   ]
  },
  {
   "cell_type": "code",
   "execution_count": 2,
   "metadata": {},
   "outputs": [],
   "source": [
    "a = 10"
   ]
  },
  {
   "cell_type": "markdown",
   "metadata": {},
   "source": [
    "변수의 등호(=) 오른쪽에는 반드시 리터럴 즉 값이 와야 한다. 반면에, 등호(=) 왼쪽에는 반드시 변수의 이름이 와야 한다."
   ]
  },
  {
   "cell_type": "code",
   "execution_count": 3,
   "metadata": {},
   "outputs": [],
   "source": [
    "a = 10\n",
    "b = 20\n",
    "\n",
    "c = a + b\n",
    "\n",
    "# c = 10 + b\n",
    "\n",
    "# c = 10 + 20\n",
    "\n",
    "# c = 30"
   ]
  },
  {
   "cell_type": "markdown",
   "metadata": {},
   "source": [
    "비록 위에서 등호(=)의 오른쪽에는 식이 나왔으나, 결국에 최종적으로 나오는 것은 리터럴 즉 값이다. 그러므로 이러한 연산은 허용된다."
   ]
  },
  {
   "cell_type": "markdown",
   "metadata": {},
   "source": [
    "항상 변수의 등호(=) 오른쪽에 있는 값이 등호(=) 왼쪽에 들어간다."
   ]
  },
  {
   "cell_type": "markdown",
   "metadata": {},
   "source": [
    "## 문자열"
   ]
  },
  {
   "cell_type": "code",
   "execution_count": 4,
   "metadata": {},
   "outputs": [
    {
     "name": "stdout",
     "output_type": "stream",
     "text": [
      "10 + 20 = 30\n"
     ]
    }
   ],
   "source": [
    "print(\"{} + {} = {}\".format(a, b, a + b))"
   ]
  },
  {
   "cell_type": "markdown",
   "metadata": {},
   "source": [
    "## 실수"
   ]
  },
  {
   "cell_type": "code",
   "execution_count": 5,
   "metadata": {},
   "outputs": [],
   "source": [
    "d = 10.12312312312331"
   ]
  },
  {
   "cell_type": "code",
   "execution_count": 6,
   "metadata": {},
   "outputs": [
    {
     "name": "stdout",
     "output_type": "stream",
     "text": [
      "10.123\n"
     ]
    }
   ],
   "source": [
    "print(f\"{d:.3f}\")"
   ]
  },
  {
   "cell_type": "markdown",
   "metadata": {},
   "source": [
    "실수(Float)"
   ]
  },
  {
   "cell_type": "code",
   "execution_count": 7,
   "metadata": {},
   "outputs": [
    {
     "name": "stdout",
     "output_type": "stream",
     "text": [
      "10.123\n"
     ]
    }
   ],
   "source": [
    "print(\"%.3f\" % (d))"
   ]
  }
 ],
 "metadata": {
  "kernelspec": {
   "display_name": "Python 3 (ipykernel)",
   "language": "python",
   "name": "python3"
  },
  "orig_nbformat": 4
 },
 "nbformat": 4,
 "nbformat_minor": 2
}
